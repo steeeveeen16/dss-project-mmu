{
 "cells": [
  {
   "cell_type": "markdown",
   "metadata": {},
   "source": [
    "# TIC 3251 DECISION SUPPORT SYSTEMS"
   ]
  },
  {
   "cell_type": "markdown",
   "metadata": {},
   "source": [
    " # Question 1"
   ]
  },
  {
   "cell_type": "code",
   "execution_count": 520,
   "metadata": {},
   "outputs": [],
   "source": [
    "#Name : STEVEN RAJ A/L SELATHURAI\n",
    "#ID   : 1161103046\n",
    "#Name : SHARMA A/L PUSHPPANATHAN\n",
    "#ID   : 1161102781"
   ]
  },
  {
   "cell_type": "markdown",
   "metadata": {},
   "source": [
    "# Section 1\n",
    "# Exploratory Data Analysis and Data Pre-Processing."
   ]
  },
  {
   "cell_type": "markdown",
   "metadata": {},
   "source": [
    " "
   ]
  },
  {
   "cell_type": "markdown",
   "metadata": {},
   "source": [
    "Load Libraries"
   ]
  },
  {
   "cell_type": "markdown",
   "metadata": {},
   "source": [
    " "
   ]
  },
  {
   "cell_type": "code",
   "execution_count": 561,
   "metadata": {},
   "outputs": [],
   "source": [
    "from sklearn.ensemble import RandomForestClassifier\n",
    "from boruta import BorutaPy\n",
    "from sklearn.feature_selection import RFECV\n",
    "from sklearn.neighbors import KNeighborsClassifier\n",
    "from sklearn.tree import DecisionTreeClassifier\n",
    "from sklearn.metrics import confusion_matrix\n",
    "from sklearn.metrics import accuracy_score, precision_score, recall_score, f1_score\n",
    "from sklearn.preprocessing import LabelEncoder\n",
    "from collections import defaultdict\n",
    "\n",
    "import numpy as np\n",
    "import pandas as pd\n",
    "import missingno as msno\n",
    "\n",
    "from scipy.stats import spearmanr \n",
    "\n",
    "from matplotlib import pyplot as plt\n",
    "import seaborn as sns\n",
    "\n",
    "from sklearn.preprocessing import MinMaxScaler\n",
    "from tqdm import tqdm_notebook, tqdm\n",
    "\n",
    "\n",
    "from sklearn.model_selection import train_test_split\n",
    "\n",
    "from sklearn.metrics import roc_curve\n",
    "\n",
    "import warnings\n",
    "warnings.filterwarnings('ignore')\n",
    "\n",
    "sns.set()\n",
    "%matplotlib inline"
   ]
  },
  {
   "cell_type": "markdown",
   "metadata": {},
   "source": [
    " "
   ]
  },
  {
   "cell_type": "markdown",
   "metadata": {},
   "source": [
    "Load dataset"
   ]
  },
  {
   "cell_type": "markdown",
   "metadata": {},
   "source": [
    " "
   ]
  },
  {
   "cell_type": "code",
   "execution_count": 562,
   "metadata": {},
   "outputs": [
    {
     "data": {
      "text/html": [
       "<div>\n",
       "<style scoped>\n",
       "    .dataframe tbody tr th:only-of-type {\n",
       "        vertical-align: middle;\n",
       "    }\n",
       "\n",
       "    .dataframe tbody tr th {\n",
       "        vertical-align: top;\n",
       "    }\n",
       "\n",
       "    .dataframe thead th {\n",
       "        text-align: right;\n",
       "    }\n",
       "</style>\n",
       "<table border=\"1\" class=\"dataframe\">\n",
       "  <thead>\n",
       "    <tr style=\"text-align: right;\">\n",
       "      <th></th>\n",
       "      <th>No</th>\n",
       "      <th>Date</th>\n",
       "      <th>Time</th>\n",
       "      <th>Race</th>\n",
       "      <th>Gender</th>\n",
       "      <th>Body_Size</th>\n",
       "      <th>Age_Range</th>\n",
       "      <th>With_Kids</th>\n",
       "      <th>Kids_Category</th>\n",
       "      <th>Basket_Size</th>\n",
       "      <th>Basket_colour</th>\n",
       "      <th>Attire</th>\n",
       "      <th>Shirt_Colour</th>\n",
       "      <th>shirt_type</th>\n",
       "      <th>Pants_Colour</th>\n",
       "      <th>pants_type</th>\n",
       "      <th>Wash_Item</th>\n",
       "      <th>Washer_No</th>\n",
       "      <th>Dryer_No</th>\n",
       "      <th>Spectacles</th>\n",
       "    </tr>\n",
       "  </thead>\n",
       "  <tbody>\n",
       "    <tr>\n",
       "      <th>0</th>\n",
       "      <td>1</td>\n",
       "      <td>19/10/2015</td>\n",
       "      <td>20:17:50</td>\n",
       "      <td>malay</td>\n",
       "      <td>NaN</td>\n",
       "      <td>moderate</td>\n",
       "      <td>NaN</td>\n",
       "      <td>yes</td>\n",
       "      <td>young</td>\n",
       "      <td>big</td>\n",
       "      <td>red</td>\n",
       "      <td>casual</td>\n",
       "      <td>blue</td>\n",
       "      <td>short_sleeve</td>\n",
       "      <td>black</td>\n",
       "      <td>short</td>\n",
       "      <td>clothes</td>\n",
       "      <td>3</td>\n",
       "      <td>10</td>\n",
       "      <td>no</td>\n",
       "    </tr>\n",
       "    <tr>\n",
       "      <th>1</th>\n",
       "      <td>2</td>\n",
       "      <td>19/10/2015</td>\n",
       "      <td>20:28:42</td>\n",
       "      <td>indian</td>\n",
       "      <td>male</td>\n",
       "      <td>thin</td>\n",
       "      <td>32.0</td>\n",
       "      <td>no</td>\n",
       "      <td>no_kids</td>\n",
       "      <td>big</td>\n",
       "      <td>green</td>\n",
       "      <td>casual</td>\n",
       "      <td>NaN</td>\n",
       "      <td>short_sleeve</td>\n",
       "      <td>blue_jeans</td>\n",
       "      <td>long</td>\n",
       "      <td>NaN</td>\n",
       "      <td>6</td>\n",
       "      <td>9</td>\n",
       "      <td>no</td>\n",
       "    </tr>\n",
       "    <tr>\n",
       "      <th>2</th>\n",
       "      <td>3</td>\n",
       "      <td>19/10/2015</td>\n",
       "      <td>20:58:31</td>\n",
       "      <td>malay</td>\n",
       "      <td>female</td>\n",
       "      <td>NaN</td>\n",
       "      <td>30.0</td>\n",
       "      <td>no</td>\n",
       "      <td>no_kids</td>\n",
       "      <td>big</td>\n",
       "      <td>blue</td>\n",
       "      <td>casual</td>\n",
       "      <td>red</td>\n",
       "      <td>short_sleeve</td>\n",
       "      <td>black</td>\n",
       "      <td>long</td>\n",
       "      <td>NaN</td>\n",
       "      <td>4</td>\n",
       "      <td>10</td>\n",
       "      <td>no</td>\n",
       "    </tr>\n",
       "    <tr>\n",
       "      <th>3</th>\n",
       "      <td>4</td>\n",
       "      <td>19/10/2015</td>\n",
       "      <td>21:31:28</td>\n",
       "      <td>indian</td>\n",
       "      <td>male</td>\n",
       "      <td>thin</td>\n",
       "      <td>51.0</td>\n",
       "      <td>no</td>\n",
       "      <td>no_kids</td>\n",
       "      <td>NaN</td>\n",
       "      <td>black</td>\n",
       "      <td>casual</td>\n",
       "      <td>NaN</td>\n",
       "      <td>short_sleeve</td>\n",
       "      <td>yellow</td>\n",
       "      <td>short</td>\n",
       "      <td>clothes</td>\n",
       "      <td>5</td>\n",
       "      <td>9</td>\n",
       "      <td>no</td>\n",
       "    </tr>\n",
       "    <tr>\n",
       "      <th>4</th>\n",
       "      <td>5</td>\n",
       "      <td>19/10/2015</td>\n",
       "      <td>21:40:28</td>\n",
       "      <td>indian</td>\n",
       "      <td>male</td>\n",
       "      <td>moderate</td>\n",
       "      <td>34.0</td>\n",
       "      <td>no</td>\n",
       "      <td>no_kids</td>\n",
       "      <td>big</td>\n",
       "      <td>blue</td>\n",
       "      <td>casual</td>\n",
       "      <td>blue</td>\n",
       "      <td>short_sleeve</td>\n",
       "      <td>white</td>\n",
       "      <td>long</td>\n",
       "      <td>clothes</td>\n",
       "      <td>3</td>\n",
       "      <td>9</td>\n",
       "      <td>no</td>\n",
       "    </tr>\n",
       "  </tbody>\n",
       "</table>\n",
       "</div>"
      ],
      "text/plain": [
       "   No        Date      Time    Race  Gender Body_Size  Age_Range With_Kids  \\\n",
       "0   1  19/10/2015  20:17:50   malay     NaN  moderate        NaN       yes   \n",
       "1   2  19/10/2015  20:28:42  indian    male      thin       32.0        no   \n",
       "2   3  19/10/2015  20:58:31   malay  female       NaN       30.0        no   \n",
       "3   4  19/10/2015  21:31:28  indian    male      thin       51.0        no   \n",
       "4   5  19/10/2015  21:40:28  indian    male  moderate       34.0        no   \n",
       "\n",
       "  Kids_Category Basket_Size Basket_colour  Attire Shirt_Colour    shirt_type  \\\n",
       "0         young         big           red  casual         blue  short_sleeve   \n",
       "1       no_kids         big         green  casual          NaN  short_sleeve   \n",
       "2       no_kids         big          blue  casual          red  short_sleeve   \n",
       "3       no_kids         NaN         black  casual          NaN  short_sleeve   \n",
       "4       no_kids         big          blue  casual         blue  short_sleeve   \n",
       "\n",
       "  Pants_Colour pants_type Wash_Item  Washer_No  Dryer_No Spectacles  \n",
       "0        black      short   clothes          3        10         no  \n",
       "1   blue_jeans       long       NaN          6         9         no  \n",
       "2        black       long       NaN          4        10         no  \n",
       "3       yellow      short   clothes          5         9         no  \n",
       "4        white       long   clothes          3         9         no  "
      ]
     },
     "execution_count": 562,
     "metadata": {},
     "output_type": "execute_result"
    }
   ],
   "source": [
    "df = pd.read_csv(\"LAUNDRY.csv\")\n",
    "df_FS = df.copy()\n",
    "df_FS.head()"
   ]
  },
  {
   "cell_type": "markdown",
   "metadata": {},
   "source": [
    " "
   ]
  },
  {
   "cell_type": "markdown",
   "metadata": {},
   "source": [
    "# Data Analysis "
   ]
  },
  {
   "cell_type": "markdown",
   "metadata": {},
   "source": [
    " "
   ]
  },
  {
   "cell_type": "markdown",
   "metadata": {},
   "source": [
    "Before data cleaning"
   ]
  },
  {
   "cell_type": "markdown",
   "metadata": {},
   "source": [
    " "
   ]
  },
  {
   "cell_type": "code",
   "execution_count": 563,
   "metadata": {},
   "outputs": [
    {
     "data": {
      "text/plain": [
       "<AxesSubplot:>"
      ]
     },
     "execution_count": 563,
     "metadata": {},
     "output_type": "execute_result"
    },
    {
     "data": {
      "image/png": "[encoded data removed]",
      "text/plain": [
       "<Figure size 1728x720 with 3 Axes>"
      ]
     },
     "metadata": {
      "needs_background": "light"
     },
     "output_type": "display_data"
    }
   ],
   "source": [
    "df_FS.isna().sum()\n",
    "msno.bar(df_FS)"
   ]
  },
  {
   "cell_type": "markdown",
   "metadata": {},
   "source": [
    " "
   ]
  },
  {
   "cell_type": "markdown",
   "metadata": {},
   "source": [
    "After data cleaning"
   ]
  },
  {
   "cell_type": "markdown",
   "metadata": {},
   "source": [
    " "
   ]
  },
  {
   "cell_type": "code",
   "execution_count": 564,
   "metadata": {},
   "outputs": [
    {
     "name": "stdout",
     "output_type": "stream",
     "text": [
      "<class 'pandas.core.frame.DataFrame'>\n",
      "Int64Index: 756 entries, 1 to 806\n",
      "Data columns (total 19 columns):\n",
      " #   Column         Non-Null Count  Dtype  \n",
      "---  ------         --------------  -----  \n",
      " 0   Date           756 non-null    object \n",
      " 1   Time           756 non-null    object \n",
      " 2   Race           756 non-null    object \n",
      " 3   Gender         756 non-null    object \n",
      " 4   Body_Size      756 non-null    object \n",
      " 5   Age_Range      756 non-null    float64\n",
      " 6   With_Kids      756 non-null    object \n",
      " 7   Kids_Category  756 non-null    object \n",
      " 8   Basket_Size    756 non-null    object \n",
      " 9   Basket_colour  756 non-null    object \n",
      " 10  Attire         756 non-null    object \n",
      " 11  Shirt_Colour   756 non-null    object \n",
      " 12  shirt_type     756 non-null    object \n",
      " 13  Pants_Colour   756 non-null    object \n",
      " 14  pants_type     756 non-null    object \n",
      " 15  Wash_Item      756 non-null    object \n",
      " 16  Washer_No      756 non-null    int64  \n",
      " 17  Dryer_No       756 non-null    int64  \n",
      " 18  Spectacles     756 non-null    object \n",
      "dtypes: float64(1), int64(2), object(16)\n",
      "memory usage: 118.1+ KB\n"
     ]
    }
   ],
   "source": [
    "del df_FS['No']\n",
    "df_FS.dropna(axis=0, subset=['Age_Range'], inplace=True)\n",
    "df_FS['Gender'].fillna('male', inplace = True)\n",
    "df_FS['Race'].fillna('others', inplace = True)\n",
    "df_FS['Body_Size'].fillna('others', inplace = True)\n",
    "df_FS['With_Kids'].fillna('yes', inplace = True)\n",
    "df_FS['Kids_Category'].fillna('others', inplace = True)\n",
    "df_FS['Basket_Size'].fillna('others', inplace = True)\n",
    "df_FS['Basket_colour'].fillna('others', inplace = True)\n",
    "df_FS['Shirt_Colour'].fillna('others', inplace = True)\n",
    "df_FS['shirt_type'].fillna('others', inplace = True)\n",
    "df_FS['Pants_Colour'].fillna('others', inplace = True)\n",
    "df_FS['pants_type'].fillna('others', inplace = True)\n",
    "df_FS['Wash_Item'].fillna('others', inplace = True)\n",
    "df_FS['Attire'].fillna('others', inplace = True)\n",
    "\n",
    "df_FS.info()\n",
    "df_section3=df_FS.copy()"
   ]
  },
  {
   "cell_type": "code",
   "execution_count": 565,
   "metadata": {},
   "outputs": [
    {
     "data": {
      "image/png": "[encoded data removed]",
      "text/plain": [
       "<Figure size 1728x720 with 3 Axes>"
      ]
     },
     "metadata": {
      "needs_background": "light"
     },
     "output_type": "display_data"
    }
   ],
   "source": [
    "df_FS.isna().sum()\n",
    "msno.bar(df_FS)\n",
    "df_features = df_FS.copy() \n",
    "df_classification = df_FS.copy() "
   ]
  },
  {
   "cell_type": "markdown",
   "metadata": {},
   "source": [
    " "
   ]
  },
  {
   "cell_type": "markdown",
   "metadata": {},
   "source": [
    " # Data Visualization"
   ]
  },
  {
   "cell_type": "markdown",
   "metadata": {},
   "source": [
    " "
   ]
  },
  {
   "cell_type": "markdown",
   "metadata": {},
   "source": [
    " Bar chart"
   ]
  },
  {
   "cell_type": "markdown",
   "metadata": {},
   "source": [
    " "
   ]
  },
  {
   "cell_type": "code",
   "execution_count": 566,
   "metadata": {},
   "outputs": [
    {
     "data": {
      "text/plain": [
       "Text(0, 0.5, 'Propotion of Gender')"
      ]
     },
     "execution_count": 566,
     "metadata": {},
     "output_type": "execute_result"
    },
    {
     "data": {
      "image/png": "[encoded data removed]",
      "text/plain": [
       "<Figure size 432x288 with 1 Axes>"
      ]
     },
     "metadata": {
      "needs_background": "light"
     },
     "output_type": "display_data"
    }
   ],
   "source": [
    "#barchart\n",
    "table=pd.crosstab(df_FS.shirt_type,df_FS.Gender)\n",
    "table.div(table.sum(1).astype(float), axis=0).plot(kind='bar', stacked=False)\n",
    "plt.title('Stacked Bar Chart of Shirt Type vs Gender')\n",
    "plt.xlabel('Shirt Type')\n",
    "plt.ylabel('Propotion of Gender')"
   ]
  },
  {
   "cell_type": "markdown",
   "metadata": {},
   "source": [
    " "
   ]
  },
  {
   "cell_type": "markdown",
   "metadata": {},
   "source": [
    " Box Plot"
   ]
  },
  {
   "cell_type": "markdown",
   "metadata": {},
   "source": [
    " "
   ]
  },
  {
   "cell_type": "code",
   "execution_count": 567,
   "metadata": {},
   "outputs": [
    {
     "data": {
      "text/plain": [
       "<AxesSubplot:xlabel='Washer_No', ylabel='Age_Range'>"
      ]
     },
     "execution_count": 567,
     "metadata": {},
     "output_type": "execute_result"
    },
    {
     "data": {
      "image/png": "[encoded data removed]",
      "text/plain": [
       "<Figure size 842.4x595.44 with 1 Axes>"
      ]
     },
     "metadata": {
      "needs_background": "light"
     },
     "output_type": "display_data"
    }
   ],
   "source": [
    "#boxplot\n",
    "fig, ax = plt.subplots(figsize=(11.7, 8.27))\n",
    "sns.boxplot(data=df_FS, x=\"Washer_No\", y=\"Age_Range\", ax=ax)"
   ]
  },
  {
   "cell_type": "markdown",
   "metadata": {},
   "source": [
    " "
   ]
  },
  {
   "cell_type": "markdown",
   "metadata": {},
   "source": [
    " Correlation"
   ]
  },
  {
   "cell_type": "markdown",
   "metadata": {},
   "source": [
    " "
   ]
  },
  {
   "cell_type": "code",
   "execution_count": 528,
   "metadata": {},
   "outputs": [
    {
     "data": {
      "text/plain": [
       "<AxesSubplot:>"
      ]
     },
     "execution_count": 528,
     "metadata": {},
     "output_type": "execute_result"
    },
    {
     "data": {
      "image/png": "[encoded data removed]",
      "text/plain": [
       "<Figure size 504x504 with 2 Axes>"
      ]
     },
     "metadata": {
      "needs_background": "light"
     },
     "output_type": "display_data"
    }
   ],
   "source": [
    "#correlation\n",
    "corr = df_FS.corr()\n",
    "\n",
    "plt.figure(figsize=(7,7))\n",
    "sns.heatmap(corr, vmax=.8, square=True, annot=True, fmt='.2f',\n",
    "           annot_kws={'size': 15}, cmap=sns.color_palette(\"Greens\"))"
   ]
  },
  {
   "cell_type": "markdown",
   "metadata": {},
   "source": [
    " "
   ]
  },
  {
   "cell_type": "markdown",
   "metadata": {},
   "source": [
    " Histogram"
   ]
  },
  {
   "cell_type": "markdown",
   "metadata": {},
   "source": [
    " "
   ]
  },
  {
   "cell_type": "code",
   "execution_count": 529,
   "metadata": {},
   "outputs": [
    {
     "data": {
      "text/plain": [
       "Text(0, 0.5, 'Frequency')"
      ]
     },
     "execution_count": 529,
     "metadata": {},
     "output_type": "execute_result"
    },
    {
     "data": {
      "image/png": "[encoded data removed]",
      "text/plain": [
       "<Figure size 432x288 with 1 Axes>"
      ]
     },
     "metadata": {
      "needs_background": "light"
     },
     "output_type": "display_data"
    }
   ],
   "source": [
    "#Histogram\n",
    "df_FS.Age_Range.hist()\n",
    "plt.title('Histogram of Age Range')\n",
    "plt.xlabel('Age')\n",
    "plt.ylabel('Frequency')"
   ]
  },
  {
   "cell_type": "markdown",
   "metadata": {},
   "source": [
    " "
   ]
  },
  {
   "cell_type": "markdown",
   "metadata": {},
   "source": [
    "# Section 2\n",
    "# Feature Selection"
   ]
  },
  {
   "cell_type": "markdown",
   "metadata": {},
   "source": [
    " "
   ]
  },
  {
   "cell_type": "code",
   "execution_count": 530,
   "metadata": {},
   "outputs": [],
   "source": [
    "def ranking(ranks, names, order=1):\n",
    "    minmax = MinMaxScaler()\n",
    "    ranks = minmax.fit_transform(order*np.array([ranks]).T).T[0]\n",
    "    ranks = map(lambda x: round(x,2), ranks)\n",
    "    return dict(zip(names, ranks))"
   ]
  },
  {
   "cell_type": "code",
   "execution_count": 531,
   "metadata": {},
   "outputs": [
    {
     "data": {
      "text/html": [
       "<div>\n",
       "<style scoped>\n",
       "    .dataframe tbody tr th:only-of-type {\n",
       "        vertical-align: middle;\n",
       "    }\n",
       "\n",
       "    .dataframe tbody tr th {\n",
       "        vertical-align: top;\n",
       "    }\n",
       "\n",
       "    .dataframe thead th {\n",
       "        text-align: right;\n",
       "    }\n",
       "</style>\n",
       "<table border=\"1\" class=\"dataframe\">\n",
       "  <thead>\n",
       "    <tr style=\"text-align: right;\">\n",
       "      <th></th>\n",
       "      <th>Race</th>\n",
       "      <th>Gender</th>\n",
       "      <th>Body_Size</th>\n",
       "      <th>Age_Range</th>\n",
       "      <th>With_Kids</th>\n",
       "      <th>Kids_Category</th>\n",
       "      <th>Basket_Size</th>\n",
       "      <th>Basket_colour</th>\n",
       "      <th>Attire</th>\n",
       "      <th>Shirt_Colour</th>\n",
       "      <th>shirt_type</th>\n",
       "      <th>Pants_Colour</th>\n",
       "      <th>pants_type</th>\n",
       "      <th>Wash_Item</th>\n",
       "      <th>Washer_No</th>\n",
       "      <th>Dryer_No</th>\n",
       "      <th>Spectacles</th>\n",
       "    </tr>\n",
       "  </thead>\n",
       "  <tbody>\n",
       "    <tr>\n",
       "      <th>1</th>\n",
       "      <td>indian</td>\n",
       "      <td>male</td>\n",
       "      <td>thin</td>\n",
       "      <td>32.0</td>\n",
       "      <td>no</td>\n",
       "      <td>no_kids</td>\n",
       "      <td>big</td>\n",
       "      <td>green</td>\n",
       "      <td>casual</td>\n",
       "      <td>others</td>\n",
       "      <td>short_sleeve</td>\n",
       "      <td>blue_jeans</td>\n",
       "      <td>long</td>\n",
       "      <td>others</td>\n",
       "      <td>6</td>\n",
       "      <td>9</td>\n",
       "      <td>no</td>\n",
       "    </tr>\n",
       "    <tr>\n",
       "      <th>2</th>\n",
       "      <td>malay</td>\n",
       "      <td>female</td>\n",
       "      <td>others</td>\n",
       "      <td>30.0</td>\n",
       "      <td>no</td>\n",
       "      <td>no_kids</td>\n",
       "      <td>big</td>\n",
       "      <td>blue</td>\n",
       "      <td>casual</td>\n",
       "      <td>red</td>\n",
       "      <td>short_sleeve</td>\n",
       "      <td>black</td>\n",
       "      <td>long</td>\n",
       "      <td>others</td>\n",
       "      <td>4</td>\n",
       "      <td>10</td>\n",
       "      <td>no</td>\n",
       "    </tr>\n",
       "    <tr>\n",
       "      <th>3</th>\n",
       "      <td>indian</td>\n",
       "      <td>male</td>\n",
       "      <td>thin</td>\n",
       "      <td>51.0</td>\n",
       "      <td>no</td>\n",
       "      <td>no_kids</td>\n",
       "      <td>others</td>\n",
       "      <td>black</td>\n",
       "      <td>casual</td>\n",
       "      <td>others</td>\n",
       "      <td>short_sleeve</td>\n",
       "      <td>yellow</td>\n",
       "      <td>short</td>\n",
       "      <td>clothes</td>\n",
       "      <td>5</td>\n",
       "      <td>9</td>\n",
       "      <td>no</td>\n",
       "    </tr>\n",
       "    <tr>\n",
       "      <th>4</th>\n",
       "      <td>indian</td>\n",
       "      <td>male</td>\n",
       "      <td>moderate</td>\n",
       "      <td>34.0</td>\n",
       "      <td>no</td>\n",
       "      <td>no_kids</td>\n",
       "      <td>big</td>\n",
       "      <td>blue</td>\n",
       "      <td>casual</td>\n",
       "      <td>blue</td>\n",
       "      <td>short_sleeve</td>\n",
       "      <td>white</td>\n",
       "      <td>long</td>\n",
       "      <td>clothes</td>\n",
       "      <td>3</td>\n",
       "      <td>9</td>\n",
       "      <td>no</td>\n",
       "    </tr>\n",
       "    <tr>\n",
       "      <th>5</th>\n",
       "      <td>others</td>\n",
       "      <td>male</td>\n",
       "      <td>fat</td>\n",
       "      <td>50.0</td>\n",
       "      <td>no</td>\n",
       "      <td>no_kids</td>\n",
       "      <td>small</td>\n",
       "      <td>white</td>\n",
       "      <td>casual</td>\n",
       "      <td>brown</td>\n",
       "      <td>others</td>\n",
       "      <td>blue_jeans</td>\n",
       "      <td>long</td>\n",
       "      <td>clothes</td>\n",
       "      <td>4</td>\n",
       "      <td>8</td>\n",
       "      <td>no</td>\n",
       "    </tr>\n",
       "  </tbody>\n",
       "</table>\n",
       "</div>"
      ],
      "text/plain": [
       "     Race  Gender Body_Size  Age_Range With_Kids Kids_Category Basket_Size  \\\n",
       "1  indian    male      thin       32.0        no       no_kids         big   \n",
       "2   malay  female    others       30.0        no       no_kids         big   \n",
       "3  indian    male      thin       51.0        no       no_kids      others   \n",
       "4  indian    male  moderate       34.0        no       no_kids         big   \n",
       "5  others    male       fat       50.0        no       no_kids       small   \n",
       "\n",
       "  Basket_colour  Attire Shirt_Colour    shirt_type Pants_Colour pants_type  \\\n",
       "1         green  casual       others  short_sleeve   blue_jeans       long   \n",
       "2          blue  casual          red  short_sleeve        black       long   \n",
       "3         black  casual       others  short_sleeve       yellow      short   \n",
       "4          blue  casual         blue  short_sleeve        white       long   \n",
       "5         white  casual        brown        others   blue_jeans       long   \n",
       "\n",
       "  Wash_Item  Washer_No  Dryer_No Spectacles  \n",
       "1    others          6         9         no  \n",
       "2    others          4        10         no  \n",
       "3   clothes          5         9         no  \n",
       "4   clothes          3         9         no  \n",
       "5   clothes          4         8         no  "
      ]
     },
     "execution_count": 531,
     "metadata": {},
     "output_type": "execute_result"
    }
   ],
   "source": [
    "del df_features['Time']\n",
    "del df_features['Date']\n",
    "df_features.head()"
   ]
  },
  {
   "cell_type": "code",
   "execution_count": 532,
   "metadata": {},
   "outputs": [
    {
     "data": {
      "text/html": [
       "<div>\n",
       "<style scoped>\n",
       "    .dataframe tbody tr th:only-of-type {\n",
       "        vertical-align: middle;\n",
       "    }\n",
       "\n",
       "    .dataframe tbody tr th {\n",
       "        vertical-align: top;\n",
       "    }\n",
       "\n",
       "    .dataframe thead th {\n",
       "        text-align: right;\n",
       "    }\n",
       "</style>\n",
       "<table border=\"1\" class=\"dataframe\">\n",
       "  <thead>\n",
       "    <tr style=\"text-align: right;\">\n",
       "      <th></th>\n",
       "      <th>Age_Range</th>\n",
       "      <th>Washer_No</th>\n",
       "      <th>Dryer_No</th>\n",
       "      <th>Race_chinese</th>\n",
       "      <th>Race_foreigner</th>\n",
       "      <th>Race_indian</th>\n",
       "      <th>Race_malay</th>\n",
       "      <th>Race_others</th>\n",
       "      <th>Gender_female</th>\n",
       "      <th>Gender_male</th>\n",
       "      <th>...</th>\n",
       "      <th>Pants_Colour_white</th>\n",
       "      <th>Pants_Colour_yellow</th>\n",
       "      <th>pants_type_long</th>\n",
       "      <th>pants_type_others</th>\n",
       "      <th>pants_type_short</th>\n",
       "      <th>Wash_Item_blankets</th>\n",
       "      <th>Wash_Item_clothes</th>\n",
       "      <th>Wash_Item_others</th>\n",
       "      <th>Spectacles_no</th>\n",
       "      <th>Spectacles_yes</th>\n",
       "    </tr>\n",
       "  </thead>\n",
       "  <tbody>\n",
       "    <tr>\n",
       "      <th>1</th>\n",
       "      <td>32.0</td>\n",
       "      <td>6</td>\n",
       "      <td>9</td>\n",
       "      <td>0</td>\n",
       "      <td>0</td>\n",
       "      <td>1</td>\n",
       "      <td>0</td>\n",
       "      <td>0</td>\n",
       "      <td>0</td>\n",
       "      <td>1</td>\n",
       "      <td>...</td>\n",
       "      <td>0</td>\n",
       "      <td>0</td>\n",
       "      <td>1</td>\n",
       "      <td>0</td>\n",
       "      <td>0</td>\n",
       "      <td>0</td>\n",
       "      <td>0</td>\n",
       "      <td>1</td>\n",
       "      <td>1</td>\n",
       "      <td>0</td>\n",
       "    </tr>\n",
       "    <tr>\n",
       "      <th>2</th>\n",
       "      <td>30.0</td>\n",
       "      <td>4</td>\n",
       "      <td>10</td>\n",
       "      <td>0</td>\n",
       "      <td>0</td>\n",
       "      <td>0</td>\n",
       "      <td>1</td>\n",
       "      <td>0</td>\n",
       "      <td>1</td>\n",
       "      <td>0</td>\n",
       "      <td>...</td>\n",
       "      <td>0</td>\n",
       "      <td>0</td>\n",
       "      <td>1</td>\n",
       "      <td>0</td>\n",
       "      <td>0</td>\n",
       "      <td>0</td>\n",
       "      <td>0</td>\n",
       "      <td>1</td>\n",
       "      <td>1</td>\n",
       "      <td>0</td>\n",
       "    </tr>\n",
       "    <tr>\n",
       "      <th>3</th>\n",
       "      <td>51.0</td>\n",
       "      <td>5</td>\n",
       "      <td>9</td>\n",
       "      <td>0</td>\n",
       "      <td>0</td>\n",
       "      <td>1</td>\n",
       "      <td>0</td>\n",
       "      <td>0</td>\n",
       "      <td>0</td>\n",
       "      <td>1</td>\n",
       "      <td>...</td>\n",
       "      <td>0</td>\n",
       "      <td>1</td>\n",
       "      <td>0</td>\n",
       "      <td>0</td>\n",
       "      <td>1</td>\n",
       "      <td>0</td>\n",
       "      <td>1</td>\n",
       "      <td>0</td>\n",
       "      <td>1</td>\n",
       "      <td>0</td>\n",
       "    </tr>\n",
       "    <tr>\n",
       "      <th>4</th>\n",
       "      <td>34.0</td>\n",
       "      <td>3</td>\n",
       "      <td>9</td>\n",
       "      <td>0</td>\n",
       "      <td>0</td>\n",
       "      <td>1</td>\n",
       "      <td>0</td>\n",
       "      <td>0</td>\n",
       "      <td>0</td>\n",
       "      <td>1</td>\n",
       "      <td>...</td>\n",
       "      <td>1</td>\n",
       "      <td>0</td>\n",
       "      <td>1</td>\n",
       "      <td>0</td>\n",
       "      <td>0</td>\n",
       "      <td>0</td>\n",
       "      <td>1</td>\n",
       "      <td>0</td>\n",
       "      <td>1</td>\n",
       "      <td>0</td>\n",
       "    </tr>\n",
       "    <tr>\n",
       "      <th>5</th>\n",
       "      <td>50.0</td>\n",
       "      <td>4</td>\n",
       "      <td>8</td>\n",
       "      <td>0</td>\n",
       "      <td>0</td>\n",
       "      <td>0</td>\n",
       "      <td>0</td>\n",
       "      <td>1</td>\n",
       "      <td>0</td>\n",
       "      <td>1</td>\n",
       "      <td>...</td>\n",
       "      <td>0</td>\n",
       "      <td>0</td>\n",
       "      <td>1</td>\n",
       "      <td>0</td>\n",
       "      <td>0</td>\n",
       "      <td>0</td>\n",
       "      <td>1</td>\n",
       "      <td>0</td>\n",
       "      <td>1</td>\n",
       "      <td>0</td>\n",
       "    </tr>\n",
       "  </tbody>\n",
       "</table>\n",
       "<p>5 rows × 81 columns</p>\n",
       "</div>"
      ],
      "text/plain": [
       "   Age_Range  Washer_No  Dryer_No  Race_chinese  Race_foreigner   Race_indian  \\\n",
       "1       32.0          6         9             0                0            1   \n",
       "2       30.0          4        10             0                0            0   \n",
       "3       51.0          5         9             0                0            1   \n",
       "4       34.0          3         9             0                0            1   \n",
       "5       50.0          4         8             0                0            0   \n",
       "\n",
       "   Race_malay  Race_others  Gender_female  Gender_male  ...  \\\n",
       "1           0            0              0            1  ...   \n",
       "2           1            0              1            0  ...   \n",
       "3           0            0              0            1  ...   \n",
       "4           0            0              0            1  ...   \n",
       "5           0            1              0            1  ...   \n",
       "\n",
       "   Pants_Colour_white  Pants_Colour_yellow  pants_type_long  \\\n",
       "1                   0                    0                1   \n",
       "2                   0                    0                1   \n",
       "3                   0                    1                0   \n",
       "4                   1                    0                1   \n",
       "5                   0                    0                1   \n",
       "\n",
       "   pants_type_others  pants_type_short  Wash_Item_blankets  Wash_Item_clothes  \\\n",
       "1                  0                 0                   0                  0   \n",
       "2                  0                 0                   0                  0   \n",
       "3                  0                 1                   0                  1   \n",
       "4                  0                 0                   0                  1   \n",
       "5                  0                 0                   0                  1   \n",
       "\n",
       "   Wash_Item_others  Spectacles_no  Spectacles_yes  \n",
       "1                 1              1               0  \n",
       "2                 1              1               0  \n",
       "3                 0              1               0  \n",
       "4                 0              1               0  \n",
       "5                 0              1               0  \n",
       "\n",
       "[5 rows x 81 columns]"
      ]
     },
     "execution_count": 532,
     "metadata": {},
     "output_type": "execute_result"
    }
   ],
   "source": [
    "col_list = [col for col in df_features.columns.tolist() if df_features[col].dtype.name == \"object\"]\n",
    "df_oh = df_features[col_list]\n",
    "df_features = df_features.drop(col_list, 1)\n",
    "df_oh = pd.get_dummies(df_oh)\n",
    "df_features = pd.concat([df_features, df_oh], axis=1)\n",
    "df_features.head()"
   ]
  },
  {
   "cell_type": "code",
   "execution_count": 533,
   "metadata": {},
   "outputs": [],
   "source": [
    "y = df_features.Race_indian\n",
    "X = df_features.drop(\"Race_indian\", 1)\n",
    "colnames = X.columns"
   ]
  },
  {
   "cell_type": "markdown",
   "metadata": {},
   "source": [
    " "
   ]
  },
  {
   "cell_type": "markdown",
   "metadata": {},
   "source": [
    "# BORUTA"
   ]
  },
  {
   "cell_type": "markdown",
   "metadata": {},
   "source": [
    " "
   ]
  },
  {
   "cell_type": "code",
   "execution_count": 534,
   "metadata": {},
   "outputs": [],
   "source": [
    "rf = RandomForestClassifier(n_jobs=-1, class_weight=\"balanced\", max_depth = 5)\n",
    "\n",
    "feat_selector = BorutaPy(rf, n_estimators=\"auto\", random_state = 1)"
   ]
  },
  {
   "cell_type": "code",
   "execution_count": 535,
   "metadata": {},
   "outputs": [
    {
     "data": {
      "text/plain": [
       "BorutaPy(estimator=RandomForestClassifier(class_weight='balanced', max_depth=5,\n",
       "                                          n_estimators=74, n_jobs=-1,\n",
       "                                          random_state=RandomState(MT19937) at 0x7FB16DC23540),\n",
       "         n_estimators='auto',\n",
       "         random_state=RandomState(MT19937) at 0x7FB16DC23540)"
      ]
     },
     "execution_count": 535,
     "metadata": {},
     "output_type": "execute_result"
    }
   ],
   "source": [
    "feat_selector.fit(X.values, y.values.ravel())"
   ]
  },
  {
   "cell_type": "code",
   "execution_count": 536,
   "metadata": {},
   "outputs": [],
   "source": [
    "boruta_score = ranking(list(map(float, feat_selector.ranking_)), colnames, order= -1)\n",
    "boruta_score = pd.DataFrame(list(boruta_score.items()), columns=['Features','Score'])\n",
    "boruta_score = boruta_score.sort_values(\"Score\", ascending = False)"
   ]
  },
  {
   "cell_type": "code",
   "execution_count": 537,
   "metadata": {},
   "outputs": [
    {
     "name": "stdout",
     "output_type": "stream",
     "text": [
      "---------Top 10----------\n"
     ]
    },
    {
     "data": {
      "text/html": [
       "<div>\n",
       "<style scoped>\n",
       "    .dataframe tbody tr th:only-of-type {\n",
       "        vertical-align: middle;\n",
       "    }\n",
       "\n",
       "    .dataframe tbody tr th {\n",
       "        vertical-align: top;\n",
       "    }\n",
       "\n",
       "    .dataframe thead th {\n",
       "        text-align: right;\n",
       "    }\n",
       "</style>\n",
       "<table border=\"1\" class=\"dataframe\">\n",
       "  <thead>\n",
       "    <tr style=\"text-align: right;\">\n",
       "      <th></th>\n",
       "      <th>Features</th>\n",
       "      <th>Score</th>\n",
       "    </tr>\n",
       "  </thead>\n",
       "  <tbody>\n",
       "    <tr>\n",
       "      <th>3</th>\n",
       "      <td>Race_chinese</td>\n",
       "      <td>1.00</td>\n",
       "    </tr>\n",
       "    <tr>\n",
       "      <th>4</th>\n",
       "      <td>Race_foreigner</td>\n",
       "      <td>1.00</td>\n",
       "    </tr>\n",
       "    <tr>\n",
       "      <th>5</th>\n",
       "      <td>Race_malay</td>\n",
       "      <td>1.00</td>\n",
       "    </tr>\n",
       "    <tr>\n",
       "      <th>6</th>\n",
       "      <td>Race_others</td>\n",
       "      <td>1.00</td>\n",
       "    </tr>\n",
       "    <tr>\n",
       "      <th>55</th>\n",
       "      <td>shirt_type_short_sleeve</td>\n",
       "      <td>1.00</td>\n",
       "    </tr>\n",
       "    <tr>\n",
       "      <th>53</th>\n",
       "      <td>shirt_type_long sleeve</td>\n",
       "      <td>1.00</td>\n",
       "    </tr>\n",
       "    <tr>\n",
       "      <th>0</th>\n",
       "      <td>Age_Range</td>\n",
       "      <td>0.99</td>\n",
       "    </tr>\n",
       "    <tr>\n",
       "      <th>18</th>\n",
       "      <td>Kids_Category_toddler</td>\n",
       "      <td>0.97</td>\n",
       "    </tr>\n",
       "    <tr>\n",
       "      <th>78</th>\n",
       "      <td>Spectacles_no</td>\n",
       "      <td>0.97</td>\n",
       "    </tr>\n",
       "    <tr>\n",
       "      <th>20</th>\n",
       "      <td>Kids_Category_young</td>\n",
       "      <td>0.97</td>\n",
       "    </tr>\n",
       "  </tbody>\n",
       "</table>\n",
       "</div>"
      ],
      "text/plain": [
       "                   Features  Score\n",
       "3              Race_chinese   1.00\n",
       "4           Race_foreigner    1.00\n",
       "5                Race_malay   1.00\n",
       "6               Race_others   1.00\n",
       "55  shirt_type_short_sleeve   1.00\n",
       "53   shirt_type_long sleeve   1.00\n",
       "0                 Age_Range   0.99\n",
       "18    Kids_Category_toddler   0.97\n",
       "78            Spectacles_no   0.97\n",
       "20      Kids_Category_young   0.97"
      ]
     },
     "metadata": {},
     "output_type": "display_data"
    },
    {
     "name": "stdout",
     "output_type": "stream",
     "text": [
      "---------Bottom 10----------\n"
     ]
    },
    {
     "data": {
      "text/html": [
       "<div>\n",
       "<style scoped>\n",
       "    .dataframe tbody tr th:only-of-type {\n",
       "        vertical-align: middle;\n",
       "    }\n",
       "\n",
       "    .dataframe tbody tr th {\n",
       "        vertical-align: top;\n",
       "    }\n",
       "\n",
       "    .dataframe thead th {\n",
       "        text-align: right;\n",
       "    }\n",
       "</style>\n",
       "<table border=\"1\" class=\"dataframe\">\n",
       "  <thead>\n",
       "    <tr style=\"text-align: right;\">\n",
       "      <th></th>\n",
       "      <th>Features</th>\n",
       "      <th>Score</th>\n",
       "    </tr>\n",
       "  </thead>\n",
       "  <tbody>\n",
       "    <tr>\n",
       "      <th>63</th>\n",
       "      <td>Pants_Colour_green</td>\n",
       "      <td>0.11</td>\n",
       "    </tr>\n",
       "    <tr>\n",
       "      <th>35</th>\n",
       "      <td>Basket_colour_yellow</td>\n",
       "      <td>0.10</td>\n",
       "    </tr>\n",
       "    <tr>\n",
       "      <th>66</th>\n",
       "      <td>Pants_Colour_others</td>\n",
       "      <td>0.08</td>\n",
       "    </tr>\n",
       "    <tr>\n",
       "      <th>60</th>\n",
       "      <td>Pants_Colour_blue</td>\n",
       "      <td>0.07</td>\n",
       "    </tr>\n",
       "    <tr>\n",
       "      <th>65</th>\n",
       "      <td>Pants_Colour_orange</td>\n",
       "      <td>0.06</td>\n",
       "    </tr>\n",
       "    <tr>\n",
       "      <th>57</th>\n",
       "      <td>Pants_Colour_black</td>\n",
       "      <td>0.04</td>\n",
       "    </tr>\n",
       "    <tr>\n",
       "      <th>59</th>\n",
       "      <td>Pants_Colour_blue</td>\n",
       "      <td>0.03</td>\n",
       "    </tr>\n",
       "    <tr>\n",
       "      <th>71</th>\n",
       "      <td>Pants_Colour_yellow</td>\n",
       "      <td>0.01</td>\n",
       "    </tr>\n",
       "    <tr>\n",
       "      <th>19</th>\n",
       "      <td>Kids_Category_toddler</td>\n",
       "      <td>0.00</td>\n",
       "    </tr>\n",
       "    <tr>\n",
       "      <th>41</th>\n",
       "      <td>Shirt_Colour_black</td>\n",
       "      <td>0.00</td>\n",
       "    </tr>\n",
       "  </tbody>\n",
       "</table>\n",
       "</div>"
      ],
      "text/plain": [
       "                  Features  Score\n",
       "63      Pants_Colour_green   0.11\n",
       "35    Basket_colour_yellow   0.10\n",
       "66     Pants_Colour_others   0.08\n",
       "60     Pants_Colour_blue     0.07\n",
       "65     Pants_Colour_orange   0.06\n",
       "57     Pants_Colour_black    0.04\n",
       "59      Pants_Colour_blue    0.03\n",
       "71     Pants_Colour_yellow   0.01\n",
       "19  Kids_Category_toddler    0.00\n",
       "41     Shirt_Colour_black    0.00"
      ]
     },
     "execution_count": 537,
     "metadata": {},
     "output_type": "execute_result"
    }
   ],
   "source": [
    "print('---------Top 10----------')\n",
    "display(boruta_score.head(10))\n",
    "\n",
    "print('---------Bottom 10----------')\n",
    "boruta_score.tail(10)"
   ]
  },
  {
   "cell_type": "code",
   "execution_count": 538,
   "metadata": {},
   "outputs": [
    {
     "data": {
      "text/plain": [
       "Text(0.5, 1.0, 'Boruta Bottom 10 Features')"
      ]
     },
     "execution_count": 538,
     "metadata": {},
     "output_type": "execute_result"
    },
    {
     "data": {
      "image/png": "[encoded data removed]",
      "text/plain": [
       "<Figure size 1915.2x1008 with 1 Axes>"
      ]
     },
     "metadata": {
      "needs_background": "light"
     },
     "output_type": "display_data"
    }
   ],
   "source": [
    "sns_boruta_plot = sns.catplot(x=\"Score\", y=\"Features\", data = boruta_score[-10:], kind = \"bar\", \n",
    "               height=14, aspect=1.9, palette='cool')\n",
    "plt.title(\"Boruta Bottom 10 Features\")"
   ]
  },
  {
   "cell_type": "markdown",
   "metadata": {},
   "source": [
    " "
   ]
  },
  {
   "cell_type": "markdown",
   "metadata": {},
   "source": [
    "# RANDOM FOREST CLASSIFIER"
   ]
  },
  {
   "cell_type": "markdown",
   "metadata": {},
   "source": [
    " "
   ]
  },
  {
   "cell_type": "code",
   "execution_count": 539,
   "metadata": {},
   "outputs": [],
   "source": [
    "rf = RandomForestClassifier(n_jobs=-1, class_weight=\"balanced_subsample\", max_depth = 5, n_estimators = 50)\n",
    "rf.fit(X, y)\n",
    "rfe = RFECV(rf, min_features_to_select = 1, cv = 3)"
   ]
  },
  {
   "cell_type": "code",
   "execution_count": 540,
   "metadata": {},
   "outputs": [
    {
     "data": {
      "text/plain": [
       "RFECV(cv=3,\n",
       "      estimator=RandomForestClassifier(class_weight='balanced_subsample',\n",
       "                                       max_depth=5, n_estimators=50,\n",
       "                                       n_jobs=-1))"
      ]
     },
     "execution_count": 540,
     "metadata": {},
     "output_type": "execute_result"
    }
   ],
   "source": [
    "rfe.fit(X, y)"
   ]
  },
  {
   "cell_type": "code",
   "execution_count": 541,
   "metadata": {},
   "outputs": [
    {
     "data": {
      "text/plain": [
       "Text(0.5, 1.0, 'RFE Bottom 10 Features')"
      ]
     },
     "execution_count": 541,
     "metadata": {},
     "output_type": "execute_result"
    },
    {
     "data": {
      "image/png": "[encoded data removed]",
      "text/plain": [
       "<Figure size 1915.2x1008 with 1 Axes>"
      ]
     },
     "metadata": {
      "needs_background": "light"
     },
     "output_type": "display_data"
    }
   ],
   "source": [
    "rfe_score = ranking(list(map(float, rfe.ranking_)), colnames, order=-1)\n",
    "rfe_score = pd.DataFrame(list(rfe_score.items()), columns=['Features', 'Score'])\n",
    "rfe_score = rfe_score.sort_values(\"Score\", ascending = False)\n",
    "\n",
    "sns_rfe_plot = sns.catplot(x=\"Score\", y=\"Features\", data = rfe_score[-10:], kind = \"bar\", \n",
    "               height=14, aspect=1.9, palette='cool')\n",
    "plt.title(\"RFE Bottom 10 Features\")"
   ]
  },
  {
   "cell_type": "markdown",
   "metadata": {},
   "source": [
    " "
   ]
  },
  {
   "cell_type": "markdown",
   "metadata": {},
   "source": [
    "# Section 3 \n",
    "# Data Mining Techniques"
   ]
  },
  {
   "cell_type": "markdown",
   "metadata": {},
   "source": [
    " "
   ]
  },
  {
   "cell_type": "markdown",
   "metadata": {},
   "source": [
    "Classification on gender"
   ]
  },
  {
   "cell_type": "code",
   "execution_count": null,
   "metadata": {},
   "outputs": [],
   "source": []
  },
  {
   "cell_type": "code",
   "execution_count": 568,
   "metadata": {},
   "outputs": [
    {
     "data": {
      "text/html": [
       "<div>\n",
       "<style scoped>\n",
       "    .dataframe tbody tr th:only-of-type {\n",
       "        vertical-align: middle;\n",
       "    }\n",
       "\n",
       "    .dataframe tbody tr th {\n",
       "        vertical-align: top;\n",
       "    }\n",
       "\n",
       "    .dataframe thead th {\n",
       "        text-align: right;\n",
       "    }\n",
       "</style>\n",
       "<table border=\"1\" class=\"dataframe\">\n",
       "  <thead>\n",
       "    <tr style=\"text-align: right;\">\n",
       "      <th></th>\n",
       "      <th>Race</th>\n",
       "      <th>Gender</th>\n",
       "      <th>Body_Size</th>\n",
       "      <th>Age_Range</th>\n",
       "      <th>With_Kids</th>\n",
       "      <th>Kids_Category</th>\n",
       "      <th>Basket_Size</th>\n",
       "      <th>Basket_colour</th>\n",
       "      <th>Attire</th>\n",
       "      <th>Shirt_Colour</th>\n",
       "      <th>shirt_type</th>\n",
       "      <th>Pants_Colour</th>\n",
       "      <th>pants_type</th>\n",
       "      <th>Wash_Item</th>\n",
       "      <th>Washer_No</th>\n",
       "      <th>Dryer_No</th>\n",
       "      <th>Spectacles</th>\n",
       "    </tr>\n",
       "  </thead>\n",
       "  <tbody>\n",
       "    <tr>\n",
       "      <th>1</th>\n",
       "      <td>indian</td>\n",
       "      <td>male</td>\n",
       "      <td>thin</td>\n",
       "      <td>32.0</td>\n",
       "      <td>no</td>\n",
       "      <td>no_kids</td>\n",
       "      <td>big</td>\n",
       "      <td>green</td>\n",
       "      <td>casual</td>\n",
       "      <td>others</td>\n",
       "      <td>short_sleeve</td>\n",
       "      <td>blue_jeans</td>\n",
       "      <td>long</td>\n",
       "      <td>others</td>\n",
       "      <td>6</td>\n",
       "      <td>9</td>\n",
       "      <td>no</td>\n",
       "    </tr>\n",
       "    <tr>\n",
       "      <th>2</th>\n",
       "      <td>malay</td>\n",
       "      <td>female</td>\n",
       "      <td>others</td>\n",
       "      <td>30.0</td>\n",
       "      <td>no</td>\n",
       "      <td>no_kids</td>\n",
       "      <td>big</td>\n",
       "      <td>blue</td>\n",
       "      <td>casual</td>\n",
       "      <td>red</td>\n",
       "      <td>short_sleeve</td>\n",
       "      <td>black</td>\n",
       "      <td>long</td>\n",
       "      <td>others</td>\n",
       "      <td>4</td>\n",
       "      <td>10</td>\n",
       "      <td>no</td>\n",
       "    </tr>\n",
       "    <tr>\n",
       "      <th>3</th>\n",
       "      <td>indian</td>\n",
       "      <td>male</td>\n",
       "      <td>thin</td>\n",
       "      <td>51.0</td>\n",
       "      <td>no</td>\n",
       "      <td>no_kids</td>\n",
       "      <td>others</td>\n",
       "      <td>black</td>\n",
       "      <td>casual</td>\n",
       "      <td>others</td>\n",
       "      <td>short_sleeve</td>\n",
       "      <td>yellow</td>\n",
       "      <td>short</td>\n",
       "      <td>clothes</td>\n",
       "      <td>5</td>\n",
       "      <td>9</td>\n",
       "      <td>no</td>\n",
       "    </tr>\n",
       "    <tr>\n",
       "      <th>4</th>\n",
       "      <td>indian</td>\n",
       "      <td>male</td>\n",
       "      <td>moderate</td>\n",
       "      <td>34.0</td>\n",
       "      <td>no</td>\n",
       "      <td>no_kids</td>\n",
       "      <td>big</td>\n",
       "      <td>blue</td>\n",
       "      <td>casual</td>\n",
       "      <td>blue</td>\n",
       "      <td>short_sleeve</td>\n",
       "      <td>white</td>\n",
       "      <td>long</td>\n",
       "      <td>clothes</td>\n",
       "      <td>3</td>\n",
       "      <td>9</td>\n",
       "      <td>no</td>\n",
       "    </tr>\n",
       "    <tr>\n",
       "      <th>5</th>\n",
       "      <td>others</td>\n",
       "      <td>male</td>\n",
       "      <td>fat</td>\n",
       "      <td>50.0</td>\n",
       "      <td>no</td>\n",
       "      <td>no_kids</td>\n",
       "      <td>small</td>\n",
       "      <td>white</td>\n",
       "      <td>casual</td>\n",
       "      <td>brown</td>\n",
       "      <td>others</td>\n",
       "      <td>blue_jeans</td>\n",
       "      <td>long</td>\n",
       "      <td>clothes</td>\n",
       "      <td>4</td>\n",
       "      <td>8</td>\n",
       "      <td>no</td>\n",
       "    </tr>\n",
       "  </tbody>\n",
       "</table>\n",
       "</div>"
      ],
      "text/plain": [
       "     Race  Gender Body_Size  Age_Range With_Kids Kids_Category Basket_Size  \\\n",
       "1  indian    male      thin       32.0        no       no_kids         big   \n",
       "2   malay  female    others       30.0        no       no_kids         big   \n",
       "3  indian    male      thin       51.0        no       no_kids      others   \n",
       "4  indian    male  moderate       34.0        no       no_kids         big   \n",
       "5  others    male       fat       50.0        no       no_kids       small   \n",
       "\n",
       "  Basket_colour  Attire Shirt_Colour    shirt_type Pants_Colour pants_type  \\\n",
       "1         green  casual       others  short_sleeve   blue_jeans       long   \n",
       "2          blue  casual          red  short_sleeve        black       long   \n",
       "3         black  casual       others  short_sleeve       yellow      short   \n",
       "4          blue  casual         blue  short_sleeve        white       long   \n",
       "5         white  casual        brown        others   blue_jeans       long   \n",
       "\n",
       "  Wash_Item  Washer_No  Dryer_No Spectacles  \n",
       "1    others          6         9         no  \n",
       "2    others          4        10         no  \n",
       "3   clothes          5         9         no  \n",
       "4   clothes          3         9         no  \n",
       "5   clothes          4         8         no  "
      ]
     },
     "execution_count": 568,
     "metadata": {},
     "output_type": "execute_result"
    }
   ],
   "source": [
    "del df_classification['Time']\n",
    "del df_classification['Date']\n",
    "df_classification.head()"
   ]
  },
  {
   "cell_type": "code",
   "execution_count": 569,
   "metadata": {},
   "outputs": [],
   "source": [
    "categorical = ['Race','Gender','Body_Size', 'With_Kids','Kids_Category','Basket_Size','Basket_colour','Attire','Shirt_Colour','shirt_type','Pants_Colour','pants_type','Wash_Item','Spectacles']\n",
    "#dataset.info()\n",
    "d = defaultdict(LabelEncoder)\n",
    "df_classification[categorical] = df_classification[categorical].apply(lambda x: d[x.name].fit_transform(x.astype(str)))"
   ]
  },
  {
   "cell_type": "code",
   "execution_count": 570,
   "metadata": {},
   "outputs": [],
   "source": [
    "X = df_classification.drop('Gender', axis=1) \n",
    "y = df_classification['Gender']\n",
    "X_train, X_test, y_train, y_test = train_test_split(X, y, test_size=0.4,random_state=10)"
   ]
  },
  {
   "cell_type": "markdown",
   "metadata": {},
   "source": [
    " "
   ]
  },
  {
   "cell_type": "markdown",
   "metadata": {},
   "source": [
    "# K-Nearest Neighbors "
   ]
  },
  {
   "cell_type": "markdown",
   "metadata": {},
   "source": [
    " "
   ]
  },
  {
   "cell_type": "code",
   "execution_count": 571,
   "metadata": {},
   "outputs": [
    {
     "name": "stdout",
     "output_type": "stream",
     "text": [
      "KNN Score= 0.58\n"
     ]
    }
   ],
   "source": [
    "k=11\n",
    "knn = KNeighborsClassifier(n_neighbors=k)\n",
    "knn.fit(X_train,y_train)\n",
    "print('KNN Score= {:.2f}'.format(knn.score(X_test, y_test)) )"
   ]
  },
  {
   "cell_type": "code",
   "execution_count": 572,
   "metadata": {},
   "outputs": [
    {
     "name": "stdout",
     "output_type": "stream",
     "text": [
      "Precision= 0.62\n",
      "Recall= 0.38\n",
      "F1= 0.47\n",
      "Accuracy= 0.58\n"
     ]
    }
   ],
   "source": [
    "y_pred = knn.predict(X_test)\n",
    "\n",
    "confussion_m = confusion_matrix(y_true=y_test, y_pred= y_pred)\n",
    "\n",
    "print('Precision= {:.2f}'.format(precision_score(y_test, y_pred, pos_label=0)))\n",
    "print('Recall= {:.2f}'. format(recall_score(y_test, y_pred, pos_label=0)))\n",
    "print('F1= {:.2f}'. format(f1_score(y_test, y_pred, pos_label=0)))\n",
    "print('Accuracy= {:.2f}'. format(accuracy_score(y_test, y_pred)))"
   ]
  },
  {
   "cell_type": "code",
   "execution_count": 573,
   "metadata": {},
   "outputs": [
    {
     "data": {
      "text/plain": [
       "<matplotlib.legend.Legend at 0x7fb16dfa1220>"
      ]
     },
     "execution_count": 573,
     "metadata": {},
     "output_type": "execute_result"
    },
    {
     "data": {
      "image/png": "[encoded data removed]",
      "text/plain": [
       "<Figure size 432x288 with 1 Axes>"
      ]
     },
     "metadata": {
      "needs_background": "light"
     },
     "output_type": "display_data"
    }
   ],
   "source": [
    "prob_KNN = knn.predict_proba(X_test)\n",
    "prob_KNN = prob_KNN[:, 1]\n",
    "fpr_knn, tpr_knn, thresholds_DT = roc_curve(y_test, prob_KNN) \n",
    "\n",
    "plt.plot(fpr_knn, tpr_knn, color='red', label='KNN') \n",
    "plt.plot([0, 1], [0, 1], color='green', linestyle='--')\n",
    "plt.xlabel('False Positive Rate')\n",
    "plt.ylabel('True Positive Rate')\n",
    "plt.title('K-Nearest Neighbors (KNN) Curve')\n",
    "plt.legend()"
   ]
  },
  {
   "cell_type": "markdown",
   "metadata": {},
   "source": [
    " "
   ]
  },
  {
   "cell_type": "markdown",
   "metadata": {},
   "source": [
    "# Naive Bayes"
   ]
  },
  {
   "cell_type": "markdown",
   "metadata": {},
   "source": [
    " "
   ]
  },
  {
   "cell_type": "code",
   "execution_count": 574,
   "metadata": {},
   "outputs": [
    {
     "name": "stdout",
     "output_type": "stream",
     "text": [
      "NB Score= 0.6501650165016502\n"
     ]
    }
   ],
   "source": [
    "from sklearn.naive_bayes import GaussianNB\n",
    "nb = GaussianNB()\n",
    "nb.fit(X_train, y_train)\n",
    "\n",
    "print('NB Score=', nb.score(X_test, y_test))"
   ]
  },
  {
   "cell_type": "code",
   "execution_count": 575,
   "metadata": {},
   "outputs": [
    {
     "name": "stdout",
     "output_type": "stream",
     "text": [
      "Precision= 0.70\n",
      "Recall= 0.52\n",
      "F1= 0.60\n",
      "Accuracy= 0.65\n"
     ]
    }
   ],
   "source": [
    "from sklearn.metrics import accuracy_score, precision_score, recall_score, f1_score\n",
    "y_pred = nb.predict(X_test)\n",
    "\n",
    "confussion_m = confusion_matrix(y_true=y_test, y_pred= y_pred)\n",
    "\n",
    "print('Precision= {:.2f}'.format(precision_score(y_test, y_pred, pos_label=0)))\n",
    "print('Recall= {:.2f}'. format(recall_score(y_test, y_pred, pos_label=0)))\n",
    "print('F1= {:.2f}'. format(f1_score(y_test, y_pred, pos_label=0)))\n",
    "print('Accuracy= {:.2f}'. format(accuracy_score(y_test, y_pred)))"
   ]
  },
  {
   "cell_type": "code",
   "execution_count": 576,
   "metadata": {},
   "outputs": [
    {
     "data": {
      "text/plain": [
       "<matplotlib.legend.Legend at 0x7fb16dfa18e0>"
      ]
     },
     "execution_count": 576,
     "metadata": {},
     "output_type": "execute_result"
    },
    {
     "data": {
      "image/png": "[encoded data removed]",
      "text/plain": [
       "<Figure size 432x288 with 1 Axes>"
      ]
     },
     "metadata": {
      "needs_background": "light"
     },
     "output_type": "display_data"
    }
   ],
   "source": [
    "prob_NB = nb.predict_proba(X_test)\n",
    "prob_NB = prob_NB[:, 1]\n",
    "fpr_NB, tpr_NB, thresholds_DT = roc_curve(y_test, prob_NB) \n",
    "\n",
    "plt.plot(fpr_NB, tpr_NB, color='orange', label='NB')\n",
    "plt.plot([0, 1], [0, 1], color='green', linestyle='--')\n",
    "plt.xlabel('False Positive Rate')\n",
    "plt.ylabel('True Positive Rate')\n",
    "plt.title('Naive Bayes (NB) Curve')\n",
    "plt.legend()"
   ]
  },
  {
   "cell_type": "code",
   "execution_count": null,
   "metadata": {},
   "outputs": [],
   "source": []
  },
  {
   "cell_type": "markdown",
   "metadata": {},
   "source": [
    "Classification of with kids"
   ]
  },
  {
   "cell_type": "code",
   "execution_count": null,
   "metadata": {},
   "outputs": [],
   "source": []
  },
  {
   "cell_type": "code",
   "execution_count": 577,
   "metadata": {},
   "outputs": [],
   "source": [
    "categorical = ['Race','Gender','Body_Size', 'With_Kids','Kids_Category','Basket_Size','Basket_colour','Attire','Shirt_Colour','shirt_type','Pants_Colour','pants_type','Wash_Item','Spectacles']\n",
    "#dataset.info()\n",
    "d = defaultdict(LabelEncoder)\n",
    "df_classification[categorical] = df_classification[categorical].apply(lambda x: d[x.name].fit_transform(x.astype(str)))"
   ]
  },
  {
   "cell_type": "code",
   "execution_count": 578,
   "metadata": {},
   "outputs": [],
   "source": [
    "X = df_classification.drop('With_Kids', axis=1) \n",
    "y = df_classification['With_Kids']\n",
    "X_train, X_test, y_train, y_test = train_test_split(X, y, test_size=0.4,random_state=10)"
   ]
  },
  {
   "cell_type": "code",
   "execution_count": null,
   "metadata": {},
   "outputs": [],
   "source": []
  },
  {
   "cell_type": "markdown",
   "metadata": {},
   "source": [
    "# K-Nearest Neighbors "
   ]
  },
  {
   "cell_type": "code",
   "execution_count": null,
   "metadata": {},
   "outputs": [],
   "source": []
  },
  {
   "cell_type": "code",
   "execution_count": 579,
   "metadata": {},
   "outputs": [
    {
     "name": "stdout",
     "output_type": "stream",
     "text": [
      "KNN Score= 0.75\n"
     ]
    }
   ],
   "source": [
    "k=11\n",
    "knn = KNeighborsClassifier(n_neighbors=k)\n",
    "knn.fit(X_train,y_train)\n",
    "print('KNN Score= {:.2f}'.format(knn.score(X_test, y_test)) )"
   ]
  },
  {
   "cell_type": "code",
   "execution_count": 580,
   "metadata": {},
   "outputs": [
    {
     "name": "stdout",
     "output_type": "stream",
     "text": [
      "Precision= 0.74\n",
      "Recall= 1.00\n",
      "F1= 0.85\n",
      "Accuracy= 0.75\n"
     ]
    }
   ],
   "source": [
    "y_pred = knn.predict(X_test)\n",
    "\n",
    "confussion_m = confusion_matrix(y_true=y_test, y_pred= y_pred)\n",
    "\n",
    "print('Precision= {:.2f}'.format(precision_score(y_test, y_pred, pos_label=0)))\n",
    "print('Recall= {:.2f}'. format(recall_score(y_test, y_pred, pos_label=0)))\n",
    "print('F1= {:.2f}'. format(f1_score(y_test, y_pred, pos_label=0)))\n",
    "print('Accuracy= {:.2f}'. format(accuracy_score(y_test, y_pred)))"
   ]
  },
  {
   "cell_type": "code",
   "execution_count": 581,
   "metadata": {},
   "outputs": [
    {
     "data": {
      "text/plain": [
       "<matplotlib.legend.Legend at 0x7fb16e066070>"
      ]
     },
     "execution_count": 581,
     "metadata": {},
     "output_type": "execute_result"
    },
    {
     "data": {
      "image/png": "[encoded data removed]",
      "text/plain": [
       "<Figure size 432x288 with 1 Axes>"
      ]
     },
     "metadata": {
      "needs_background": "light"
     },
     "output_type": "display_data"
    }
   ],
   "source": [
    "prob_KNN = knn.predict_proba(X_test)\n",
    "prob_KNN = prob_KNN[:, 1]\n",
    "fpr_knn, tpr_knn, thresholds_DT = roc_curve(y_test, prob_KNN) \n",
    "\n",
    "plt.plot(fpr_knn, tpr_knn, color='red', label='KNN') \n",
    "plt.plot([0, 1], [0, 1], color='green', linestyle='--')\n",
    "plt.xlabel('False Positive Rate')\n",
    "plt.ylabel('True Positive Rate')\n",
    "plt.title('K-Nearest Neighbors (KNN) Curve')\n",
    "plt.legend()"
   ]
  },
  {
   "cell_type": "code",
   "execution_count": null,
   "metadata": {},
   "outputs": [],
   "source": []
  },
  {
   "cell_type": "markdown",
   "metadata": {},
   "source": [
    "# Naive Bayes"
   ]
  },
  {
   "cell_type": "code",
   "execution_count": null,
   "metadata": {},
   "outputs": [],
   "source": []
  },
  {
   "cell_type": "code",
   "execution_count": 582,
   "metadata": {},
   "outputs": [
    {
     "name": "stdout",
     "output_type": "stream",
     "text": [
      "NB Score= 0.8877887788778878\n"
     ]
    }
   ],
   "source": [
    "from sklearn.naive_bayes import GaussianNB\n",
    "nb = GaussianNB()\n",
    "nb.fit(X_train, y_train)\n",
    "\n",
    "print('NB Score=', nb.score(X_test, y_test))"
   ]
  },
  {
   "cell_type": "code",
   "execution_count": 583,
   "metadata": {},
   "outputs": [
    {
     "name": "stdout",
     "output_type": "stream",
     "text": [
      "Precision= 0.90\n",
      "Recall= 0.95\n",
      "F1= 0.92\n",
      "Accuracy= 0.89\n"
     ]
    }
   ],
   "source": [
    "from sklearn.metrics import accuracy_score, precision_score, recall_score, f1_score\n",
    "y_pred = nb.predict(X_test)\n",
    "\n",
    "confussion_m = confusion_matrix(y_true=y_test, y_pred= y_pred)\n",
    "\n",
    "print('Precision= {:.2f}'.format(precision_score(y_test, y_pred, pos_label=0)))\n",
    "print('Recall= {:.2f}'. format(recall_score(y_test, y_pred, pos_label=0)))\n",
    "print('F1= {:.2f}'. format(f1_score(y_test, y_pred, pos_label=0)))\n",
    "print('Accuracy= {:.2f}'. format(accuracy_score(y_test, y_pred)))"
   ]
  },
  {
   "cell_type": "code",
   "execution_count": 584,
   "metadata": {},
   "outputs": [
    {
     "data": {
      "text/plain": [
       "<matplotlib.legend.Legend at 0x7fb16e04a370>"
      ]
     },
     "execution_count": 584,
     "metadata": {},
     "output_type": "execute_result"
    },
    {
     "data": {
      "image/png": "[encoded data removed]",
      "text/plain": [
       "<Figure size 432x288 with 1 Axes>"
      ]
     },
     "metadata": {
      "needs_background": "light"
     },
     "output_type": "display_data"
    }
   ],
   "source": [
    "prob_NB = nb.predict_proba(X_test)\n",
    "prob_NB = prob_NB[:, 1]\n",
    "fpr_NB, tpr_NB, thresholds_DT = roc_curve(y_test, prob_NB) \n",
    "\n",
    "plt.plot(fpr_NB, tpr_NB, color='orange', label='NB')\n",
    "plt.plot([0, 1], [0, 1], color='green', linestyle='--')\n",
    "plt.xlabel('False Positive Rate')\n",
    "plt.ylabel('True Positive Rate')\n",
    "plt.title('Naive Bayes (NB) Curve')\n",
    "plt.legend()"
   ]
  },
  {
   "cell_type": "code",
   "execution_count": null,
   "metadata": {},
   "outputs": [],
   "source": []
  }
 ],
 "metadata": {
  "kernelspec": {
   "display_name": "Python 3",
   "language": "python",
   "name": "python3"
  },
  "language_info": {
   "codemirror_mode": {
    "name": "ipython",
    "version": 3
   },
   "file_extension": ".py",
   "mimetype": "text/x-python",
   "name": "python",
   "nbconvert_exporter": "python",
   "pygments_lexer": "ipython3",
   "version": "3.8.5"
  }
 },
 "nbformat": 4,
 "nbformat_minor": 4
}
